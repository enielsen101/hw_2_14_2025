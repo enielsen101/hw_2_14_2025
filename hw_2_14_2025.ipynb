{
 "cells": [
  {
   "cell_type": "code",
   "execution_count": 4,
   "id": "94265e90-ab7a-468c-b907-01ca45793b12",
   "metadata": {},
   "outputs": [],
   "source": [
    "## assign values to variables\n",
    "\n",
    "chicagomurders = 762\n",
    "chicagopop = 2705000\n",
    "lamurders = 294\n",
    "lapop = 3976000\n",
    "nycmurders = 334\n",
    "nycpop = 8538000\n",
    "sanjosemurders = 47\n",
    "sanjosepop = 1025000"
   ]
  },
  {
   "cell_type": "code",
   "execution_count": 10,
   "id": "5f636f32-87a5-4721-b1be-a3f52c3aa8eb",
   "metadata": {},
   "outputs": [],
   "source": [
    "## rate for chicago\n",
    "chicagomurderrate = (chicagomurders/chicagopop) * 100000"
   ]
  },
  {
   "cell_type": "code",
   "execution_count": 12,
   "id": "5515a670-d1e2-466f-9a1b-4e00b9a80148",
   "metadata": {},
   "outputs": [
    {
     "data": {
      "text/plain": [
       "28.170055452865068"
      ]
     },
     "execution_count": 12,
     "metadata": {},
     "output_type": "execute_result"
    }
   ],
   "source": [
    "## run chicago murder rate\n",
    "chicagomurderrate"
   ]
  },
  {
   "cell_type": "code",
   "execution_count": 14,
   "id": "983a76e2-b6a6-4087-8277-20de4fcd082a",
   "metadata": {},
   "outputs": [],
   "source": [
    "## rate for la\n",
    "lamurderrate = (lamurders/lapop) * 100000"
   ]
  },
  {
   "cell_type": "code",
   "execution_count": 16,
   "id": "68837d99-4106-46fa-b8fb-017165a02401",
   "metadata": {},
   "outputs": [
    {
     "data": {
      "text/plain": [
       "7.394366197183098"
      ]
     },
     "execution_count": 16,
     "metadata": {},
     "output_type": "execute_result"
    }
   ],
   "source": [
    "## run la murder rate\n",
    "lamurderrate"
   ]
  },
  {
   "cell_type": "code",
   "execution_count": 18,
   "id": "6fca412a-9997-47af-afc7-d911b6ea4719",
   "metadata": {},
   "outputs": [],
   "source": [
    "## rate for nyc\n",
    "nycmurderrate = (nycmurders/nycpop) * 100000"
   ]
  },
  {
   "cell_type": "code",
   "execution_count": 20,
   "id": "9e2fbce5-0adf-4425-b10d-570737a4acfd",
   "metadata": {},
   "outputs": [
    {
     "data": {
      "text/plain": [
       "3.911923167018037"
      ]
     },
     "execution_count": 20,
     "metadata": {},
     "output_type": "execute_result"
    }
   ],
   "source": [
    "## run nyc murder rate\n",
    "nycmurderrate"
   ]
  },
  {
   "cell_type": "code",
   "execution_count": 22,
   "id": "bd01922b-0eed-4ba2-8a49-b90aaa2dd8a9",
   "metadata": {},
   "outputs": [],
   "source": [
    "## rate for san jose\n",
    "sanjosemurderrate = (sanjosemurders/sanjosepop) * 100000"
   ]
  },
  {
   "cell_type": "code",
   "execution_count": 24,
   "id": "20026be7-b28c-440c-8d46-b98d71358610",
   "metadata": {},
   "outputs": [
    {
     "data": {
      "text/plain": [
       "4.585365853658536"
      ]
     },
     "execution_count": 24,
     "metadata": {},
     "output_type": "execute_result"
    }
   ],
   "source": [
    "## run san jose murderrate\n",
    "sanjosemurderrate"
   ]
  },
  {
   "cell_type": "code",
   "execution_count": 36,
   "id": "affc12d8-484b-492d-a79e-130d1427b056",
   "metadata": {},
   "outputs": [
    {
     "name": "stdout",
     "output_type": "stream",
     "text": [
      "New York City has a murder rate of 3.91 per 100,000 people.\n"
     ]
    }
   ],
   "source": [
    "## ## write sentence using f-strings that notes which city has the lowest murder rate\n",
    "print(f\"New York City has a murder rate of {nycmurderrate :,.2f} per 100,000 people.\")"
   ]
  },
  {
   "cell_type": "code",
   "execution_count": null,
   "id": "d0a3e301-f9be-401d-9a3f-f184b08491ce",
   "metadata": {},
   "outputs": [],
   "source": []
  }
 ],
 "metadata": {
  "kernelspec": {
   "display_name": "Python [conda env:base] *",
   "language": "python",
   "name": "conda-base-py"
  },
  "language_info": {
   "codemirror_mode": {
    "name": "ipython",
    "version": 3
   },
   "file_extension": ".py",
   "mimetype": "text/x-python",
   "name": "python",
   "nbconvert_exporter": "python",
   "pygments_lexer": "ipython3",
   "version": "3.12.7"
  }
 },
 "nbformat": 4,
 "nbformat_minor": 5
}
